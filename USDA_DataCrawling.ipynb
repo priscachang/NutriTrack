{
  "cells": [
    {
      "cell_type": "code",
      "execution_count": null,
      "metadata": {
        "id": "se61nV8ei3xu",
        "outputId": "f6f35f0a-953b-4cfc-e542-c31efc276d72"
      },
      "outputs": [
        {
          "name": "stderr",
          "output_type": "stream",
          "text": [
            "C:\\Users\\a-prchang\\AppData\\Local\\Temp\\ipykernel_3632\\180440232.py:1: DeprecationWarning: \n",
            "Pyarrow will become a required dependency of pandas in the next major release of pandas (pandas 3.0),\n",
            "(to allow more performant data types, such as the Arrow string type, and better interoperability with other libraries)\n",
            "but was not found to be installed on your system.\n",
            "If this would cause problems for you,\n",
            "please provide us feedback at https://github.com/pandas-dev/pandas/issues/54466\n",
            "        \n",
            "  import pandas as pd\n"
          ]
        }
      ],
      "source": [
        "import pandas as pd\n",
        "import numpy as np\n",
        "\n",
        "food_id = {\n",
        "    'fdcId': [],\n",
        "    'gtinUpc': [],\n",
        "    'description': [],\n",
        "    'dataType': [],\n",
        "    'foodCategory': [],\n",
        "    'brandOwner':[],\n",
        "    'brandName':[],\n",
        "    'modifiedDate':[],\n",
        "    'marketCountry':[],\n",
        "    'tradeChannels':[],\n",
        "    'packageWeight':[],\n",
        "    'publishedDate':[]\n",
        "\n",
        "\n",
        "}"
      ]
    },
    {
      "cell_type": "markdown",
      "metadata": {
        "id": "2uSgmfW1i3xy"
      },
      "source": [
        "**Find the first column**"
      ]
    },
    {
      "cell_type": "code",
      "execution_count": null,
      "metadata": {
        "id": "ANVXfsSti3xz"
      },
      "outputs": [],
      "source": [
        "nutrients_col = [\" \".join([i['nutrientName'], i['unitName']]) for i in data['foods'][0]['foodNutrients']]"
      ]
    },
    {
      "cell_type": "code",
      "execution_count": null,
      "metadata": {
        "id": "cKwmBzPvi3x0",
        "outputId": "9d179550-c96e-421c-8b84-410856b96dc4"
      },
      "outputs": [
        {
          "name": "stdout",
          "output_type": "stream",
          "text": [
            "500\n",
            "Page 500 data fetched successfully.\n",
            "1% LOW FAT MILK\n"
          ]
        }
      ],
      "source": [
        "import requests\n",
        "final_nutrients = []\n",
        "\n",
        "api_key = 'YcWzlWVIYF9rJlcAlQ8k54aNZUYwF7jroZ2YPfp2'\n",
        "base_url = 'https://api.nal.usda.gov/fdc/v1/foods/search'\n",
        "\n",
        "# define parameter\n",
        "query = {\n",
        "    # \"query\": \"Cheddar cheese\",\n",
        "    \"dataType\": [\"Branded\"],\n",
        "    \"pageSize\": 1,\n",
        "    # \"sortBy\": \"fdcId\",\n",
        "    \"sortOrder\": \"asc\"\n",
        "}\n",
        "\n",
        "\n",
        "for page in range(500, 501):\n",
        "    query[\"pageNumber\"] = page\n",
        "    response = requests.post(base_url, params={\"api_key\": api_key}, json=query)\n",
        "    print(page)\n",
        "    # check status\n",
        "    if response.status_code == 200:\n",
        "        data = response.json()\n",
        "        print(f\"Page {page} data fetched successfully.\")\n",
        "        for item in data['foods']:\n",
        "            print(item[\"description\"])\n",
        "            food_id['fdcId'].append(item['fdcId'])\n",
        "            food_id['gtinUpc'].append(str(item['gtinUpc']))\n",
        "            food_id['description'].append(item.get('description', ''))\n",
        "            food_id['dataType'].append(item['dataType'])\n",
        "            food_id['foodCategory'].append(item['foodCategory'])\n",
        "            food_id['brandOwner'].append(item.get('brandOwner', ''))\n",
        "            food_id['brandName'].append(item.get('brandName', ''))\n",
        "            food_id['modifiedDate'].append(item.get('modifiedDate', ''))\n",
        "            food_id['marketCountry'].append(item.get('marketCountry', ''))\n",
        "            food_id['tradeChannels'].append(item.get('tradeChannels', '')[0])\n",
        "            food_id['packageWeight'].append(item.get('packageWeight', ''))\n",
        "            food_id['publishedDate'].append(item['publishedDate'])\n",
        "            nu = item['foodNutrients']\n",
        "            nutrient_name = [\" \".join([i['nutrientName'], i['unitName']]) for i in nu]\n",
        "            for name in nutrient_name:\n",
        "                if name not in nutrients_col:\n",
        "                    nutrients_col.append(name)\n",
        "            one_data = [None] * len(nutrients_col)\n",
        "            for nutrient in nu:\n",
        "                if \" \".join([nutrient['nutrientName'], nutrient['unitName']]) in nutrients_col:\n",
        "                    index = nutrients_col.index(\" \".join([nutrient['nutrientName'], nutrient['unitName']]))\n",
        "                    one_data[index] = nutrient['value']\n",
        "            final_nutrients.append(one_data)\n",
        "\n"
      ]
    },
    {
      "cell_type": "code",
      "execution_count": null,
      "metadata": {
        "id": "EuRez4wji3x0"
      },
      "outputs": [],
      "source": [
        "import pandas as pd\n",
        "final = pd.DataFrame(final_nutrients,columns=nutrients_col)"
      ]
    },
    {
      "cell_type": "code",
      "execution_count": null,
      "metadata": {
        "id": "-Rx2sDWhi3x0"
      },
      "outputs": [],
      "source": [
        "food_id = pd.DataFrame(food_id)\n",
        "final_data = pd.concat([food_id, final], axis=1)"
      ]
    },
    {
      "cell_type": "code",
      "execution_count": null,
      "metadata": {
        "id": "TUEBEBw0i3x1"
      },
      "outputs": [],
      "source": [
        "final_data.to_csv('Branded Nutrients-2.csv', index=False)"
      ]
    },
    {
      "cell_type": "code",
      "execution_count": null,
      "metadata": {
        "id": "LwbZyCA1i3x1"
      },
      "outputs": [],
      "source": []
    }
  ],
  "metadata": {
    "kernelspec": {
      "display_name": "Python 3",
      "language": "python",
      "name": "python3"
    },
    "language_info": {
      "codemirror_mode": {
        "name": "ipython",
        "version": 3
      },
      "file_extension": ".py",
      "mimetype": "text/x-python",
      "name": "python",
      "nbconvert_exporter": "python",
      "pygments_lexer": "ipython3",
      "version": "3.11.9"
    },
    "colab": {
      "provenance": []
    }
  },
  "nbformat": 4,
  "nbformat_minor": 0
}